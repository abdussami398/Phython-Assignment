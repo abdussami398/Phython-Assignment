{
 "cells": [
  {
   "cell_type": "code",
   "execution_count": null,
   "metadata": {
    "collapsed": false
   },
   "outputs": [
    {
     "name": "stdout",
     "output_type": "stream",
     "text": [
      "Twinkle, twinkle, little star,\n",
      "\tHow I wonder what you are!\n",
      "\t\tUp above the world so high,\n",
      "\t\tLike a diamond in the sky.\n",
      "Twinkle, twinkle, little star,\n",
      "\tHow I wonder what you are!\n",
      "\n",
      "Python version\n",
      "3.5.2 |Enthought, Inc. (x86)| (default, Mar  2 2017, 16:37:47) [MSC v.1900 32 bit (Intel)]\n",
      "Version info.\n",
      "sys.version_info(major=3, minor=5, micro=2, releaselevel='final', serial=0)\n",
      "The Current Time Is: 18:19:41\n",
      "The Current Day Is: 24/11/2019\n"
     ]
    }
   ],
   "source": [
    "#Assignment Qno#1\n",
    "a =\"Twinkle, twinkle, little star,\\n\"\n",
    "b =\"\\tHow I wonder what you are!\\n\"\n",
    "c = \"\\t\\tUp above the world so high,\\n\"\n",
    "d =\"\\t\\tLike a diamond in the sky.\\n\"\n",
    "\n",
    "print(a+b+c+d+a+b);\n",
    "\n",
    "\n",
    "#Assignment Qno@2\n",
    "import sys\n",
    "print(\"Python version\")\n",
    "print (sys.version)\n",
    "print(\"Version info.\")\n",
    "print (sys.version_info)\n",
    "\n",
    "\n",
    "#Assignment Qno#3\n",
    "import datetime    # this is a packege which helps you run/ show the recent Date and Time.\n",
    "show = datetime.datetime.now()\n",
    "print(\"The Current Time Is: %s:%s:%s\" %(show.hour, show.minute,show.second))\n",
    "print(\"The Current Day Is: %s/%s/%s\" %(show.day, show.month,show.year))\n",
    "\n",
    "\n",
    "\n",
    "#Assignment Qno#4\n",
    "R = int(input(\"Please Enter the value of Radius to get the Area: \"))\n",
    "Area = 3.14*(R**2)\n",
    "print(\"The Area of cirlce in meters is: \",Area)\n",
    "\n",
    "\n",
    "#Assignment Qno#5\n",
    "F = input(\"Enter First Name Please: \")\n",
    "L = input(\"Now Enter Last Name: \")\n",
    "N = L+\" \"+F\n",
    "print(N)\n",
    "\n",
    "\n",
    "\n",
    "# Assignment Qno#6 \n",
    "x = int(input(\"Please Enter a Number: \"))\n",
    "y = int(input(\"Now Enter another number: \"))\n",
    "z = int(x+y) #Addition\n",
    "print(\"The Addition of \",x,\" and \",y, \"is: \",z)"
   ]
  },
  {
   "cell_type": "code",
   "execution_count": null,
   "metadata": {
    "collapsed": true
   },
   "outputs": [],
   "source": []
  }
 ],
 "metadata": {
  "kernelspec": {
   "display_name": "Python 3",
   "language": "python",
   "name": "python3"
  },
  "language_info": {
   "codemirror_mode": {
    "name": "ipython",
    "version": 3
   },
   "file_extension": ".py",
   "mimetype": "text/x-python",
   "name": "python",
   "nbconvert_exporter": "python",
   "pygments_lexer": "ipython3",
   "version": "3.5.2"
  }
 },
 "nbformat": 4,
 "nbformat_minor": 2
}
