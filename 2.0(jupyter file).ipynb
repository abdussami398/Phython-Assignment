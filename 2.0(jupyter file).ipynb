{
 "cells": [
  {
   "cell_type": "code",
   "execution_count": null,
   "metadata": {
    "collapsed": false
   },
   "outputs": [],
   "source": [
    "#Qno 1\n",
    "    #Marksheet to get Grade:\n",
    "Cplus = int(input(\"Enter C++ Marks: \"))\n",
    "Java = int(input(\"Enter Java Marks: \"))\n",
    "Python = int(input(\"Enter Python Marks: \"))\n",
    "OOP = int(input(\"Enter OOP Marks: \"))\n",
    "C = int(input(\"Enter C Language Marks: \"))\n",
    "TOb = Cplus + Java + Python + OOP+C\n",
    "Total = 500\n",
    "print(\"Total obtained marks \",TOb,\" out of \",Total)\n",
    "per = TOb/Total*100\n",
    "print(\"your %\",per)\n",
    "if per > 100:\n",
    "        print(\"Invalid %\")\n",
    "elif per >= 80 and per <= 100:\n",
    "        print(\"Your Grade is 'A'.\")\n",
    "elif per >= 60 and per <= 79:\n",
    "        print(\"Your Grade is 'B'.\")\n",
    "elif per >= 50 and per <= 59:\n",
    "        print(\"Your Grade is 'C'.\")\n",
    "elif per >= 40 and per <= 49:\n",
    "        print(\"Your Grade is 'D'.\") \n",
    "else:\n",
    "        print(\"You are Fail.\")\n",
    "\n",
    "\n",
    "\n",
    "\n",
    "# Qno 2\n",
    "    #Get Even Odd\n",
    "No1 = int(input(\"Enter A Number: \"))\n",
    "if No1%2 ==0:\n",
    "        print(\"The Number is Even\")\n",
    "else:\n",
    "        print(\"The Number is Odd\")\n",
    "\n",
    "\n",
    "\n",
    "# Qno 3\n",
    "    #Length of  Array\n",
    "Arr = (\"asad\",\"Nsaeer\",12,0.43,'A',False)\n",
    "print(\"The Length of Given Array is: \",len(Arr))\n",
    "\n",
    "\n",
    "# Qno 4\n",
    "    #Largest number in Array\n",
    "Arr = (12,0.43,False,12.001,11.99)\n",
    "print(\"The Largest value in Given Array is: \",max(Arr))\n",
    "\n",
    "\n",
    "\n",
    "# Qno 5\n",
    "    #Sum of List\n",
    "Arr = [34,.034,97.09,45]\n",
    "print(\"The Sum of all elements in the given list: \",sum(Arr))\n",
    "\n",
    "\n",
    "\n",
    "# Qno 6\n",
    "    #Less than 5\n",
    "Arr = [1,1,2,3,4,5,6,7,8,0]\n",
    "print(\"Elements less than 5 are: \",Arr[:5])\n"
   ]
  },
  {
   "cell_type": "code",
   "execution_count": null,
   "metadata": {
    "collapsed": true
   },
   "outputs": [],
   "source": []
  }
 ],
 "metadata": {
  "kernelspec": {
   "display_name": "Python 3",
   "language": "python",
   "name": "python3"
  },
  "language_info": {
   "codemirror_mode": {
    "name": "ipython",
    "version": 3
   },
   "file_extension": ".py",
   "mimetype": "text/x-python",
   "name": "python",
   "nbconvert_exporter": "python",
   "pygments_lexer": "ipython3",
   "version": "3.5.2"
  }
 },
 "nbformat": 4,
 "nbformat_minor": 2
}
