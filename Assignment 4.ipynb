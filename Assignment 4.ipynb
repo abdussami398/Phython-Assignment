{
 "cells": [
  {
   "cell_type": "markdown",
   "metadata": {},
   "source": [
    "#                            Assignment no. 4"
   ]
  },
  {
   "cell_type": "code",
   "execution_count": 1,
   "metadata": {
    "collapsed": false
   },
   "outputs": [
    {
     "name": "stdout",
     "output_type": "stream",
     "text": [
      "last_name : Sami\n",
      "age : 19\n",
      "city : Karachi\n",
      "first_name : Abdus\n",
      "\n",
      " add qualification \n",
      "\n",
      "last_name : Sami\n",
      "qualification : intermediate\n",
      "age : 19\n",
      "city : Karachi\n",
      "first_name : Abdus\n",
      "\n",
      " update qualification \n",
      "\n",
      "last_name : Sami\n",
      "qualification : high academic\n",
      "age : 19\n",
      "city : Karachi\n",
      "first_name : Abdus\n"
     ]
    }
   ],
   "source": [
    "#Question no. 1\n",
    "\n",
    "person_dict={\"first_name\":\"Abdus\",\"last_name\":\"Sami\",\"age\":\"19\",\"city\":\"Karachi\"}\n",
    "for key, value in person_dict.items():\n",
    "    print(key+\" : \"+value)\n",
    "print(\"\\n add qualification \\n\")\n",
    "person_dict[\"qualification\"]=\"intermediate\"\n",
    "for key, value in person_dict.items():\n",
    "    print(key+\" : \"+value)\n",
    "print(\"\\n update qualification \\n\")\n",
    "person_dict[\"qualification\"]=\"high academic\"\n",
    "for key, value in person_dict.items():\n",
    "    print(key+\" : \"+value)"
   ]
  },
  {
   "cell_type": "code",
   "execution_count": 2,
   "metadata": {
    "collapsed": false
   },
   "outputs": [
    {
     "name": "stdout",
     "output_type": "stream",
     "text": [
      "\n",
      "karachi\n",
      "\n",
      "fact : Karachi is the biggest and most populus city of Pakistan\n",
      "country : Pakistan\n",
      "population : 15741000\n",
      "\n",
      "islamabad\n",
      "\n",
      "fact : Islamabad is the Capital of Pakistan\n",
      "country : Pakistan\n",
      "population : 1095064\n",
      "\n",
      "lahore\n",
      "\n",
      "fact : Lahore is the capital city of the Pakistani province of Punjab. \n",
      "country : Pakistan\n",
      "population : 12188000\n"
     ]
    }
   ],
   "source": [
    "#Question no. 2\n",
    "\n",
    "cities={\n",
    "    \"lahore\":{\n",
    "        \"country\":\"Pakistan\",\n",
    "        \"population\":12188000,\n",
    "        \"fact\":\"Lahore is the capital city of the Pakistani province of Punjab. \"\n",
    "    },\n",
    "    \"karachi\":{\n",
    "        \"country\":\"Pakistan\",\n",
    "        \"population\":15741000,\n",
    "        \"fact\":\"Karachi is the biggest and most populus city of Pakistan\"\n",
    "    },\n",
    "    \"islamabad\":{\n",
    "        \"country\":\"Pakistan\",\n",
    "        \"population\":1095064,\n",
    "        \"fact\":\"Islamabad is the Capital of Pakistan\"\n",
    "    }\n",
    "}\n",
    "for citykey,cityinfo in cities.items():\n",
    "    print(\"\\n\"+citykey+\"\\n\")\n",
    "    for city in cityinfo:\n",
    "        print(city+\" : \"+str(cityinfo[city]))    "
   ]
  },
  {
   "cell_type": "code",
   "execution_count": null,
   "metadata": {
    "collapsed": false
   },
   "outputs": [
    {
     "name": "stdout",
     "output_type": "stream",
     "text": [
      "Enter age : 2\n",
      "Ticket is free\n"
     ]
    }
   ],
   "source": [
    "#Question no.3\n",
    "\n",
    "\n",
    "flag='y'\n",
    "while flag!='n':\n",
    "    age=int(input(\"Enter age : \"))\n",
    "    if age>12:\n",
    "        print(\"Ticket is 15$\")\n",
    "    elif age>=3:\n",
    "        print(\"Ticket is 10$\")\n",
    "    else:\n",
    "        print(\"Ticket is free\")\n",
    "    flag=input(\"do you want to take ticket y/n: \")  "
   ]
  },
  {
   "cell_type": "code",
   "execution_count": null,
   "metadata": {
    "collapsed": true
   },
   "outputs": [],
   "source": [
    "#Question no. 4\n",
    "\n",
    "\n",
    "def favorite_book(title):\n",
    "    print(title)\n",
    "book_title=\"One of my favorite books is Alice in Wonderland.\"\n",
    "if(len(book_title)!=0):\n",
    "    favorite_book(book_title)\n",
    "else:\n",
    "    print(\"Please populate the book title\")"
   ]
  },
  {
   "cell_type": "code",
   "execution_count": null,
   "metadata": {
    "collapsed": true
   },
   "outputs": [],
   "source": [
    "#Question no.5\n",
    "\n",
    "\n",
    "import random\n",
    "c=0\n",
    "rNumber=0\n",
    "while c<3:\n",
    "    rNumber=int(random.randrange(1,30))\n",
    "    userNumber=int(input(\"Enter number between 1 and 30: \"))\n",
    "    c=c+1\n",
    "    if rNumber>userNumber:\n",
    "        print(\"Hidden number is greater\\n\")\n",
    "    elif rNumber<userNumber:\n",
    "        print(\"Hidden number is Smaller\\n\")\n",
    "    else:\n",
    "        print(\"Hidden number is equal\\n\")\n"
   ]
  },
  {
   "cell_type": "code",
   "execution_count": null,
   "metadata": {
    "collapsed": true
   },
   "outputs": [],
   "source": []
  }
 ],
 "metadata": {
  "kernelspec": {
   "display_name": "Python 3",
   "language": "python",
   "name": "python3"
  },
  "language_info": {
   "codemirror_mode": {
    "name": "ipython",
    "version": 3
   },
   "file_extension": ".py",
   "mimetype": "text/x-python",
   "name": "python",
   "nbconvert_exporter": "python",
   "pygments_lexer": "ipython3",
   "version": "3.5.2"
  }
 },
 "nbformat": 4,
 "nbformat_minor": 2
}
